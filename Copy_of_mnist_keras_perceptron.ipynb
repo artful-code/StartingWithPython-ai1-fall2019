{
  "nbformat": 4,
  "nbformat_minor": 0,
  "metadata": {
    "colab": {
      "name": "Copy of mnist-keras-perceptron.ipynb",
      "provenance": [],
      "collapsed_sections": [],
      "include_colab_link": true
    },
    "kernelspec": {
      "name": "python3",
      "display_name": "Python 3"
    },
    "accelerator": "GPU"
  },
  "cells": [
    {
      "cell_type": "markdown",
      "metadata": {
        "id": "view-in-github",
        "colab_type": "text"
      },
      "source": [
        "<a href=\"https://colab.research.google.com/github/vishalsharma-jpg/StartingWithPython-ai1-fall2019/blob/master/Copy_of_mnist_keras_perceptron.ipynb\" target=\"_parent\"><img src=\"https://colab.research.google.com/assets/colab-badge.svg\" alt=\"Open In Colab\"/></a>"
      ]
    },
    {
      "cell_type": "code",
      "metadata": {
        "id": "0rrbVKm5n6E3",
        "colab_type": "code",
        "outputId": "265cbeed-2a70-4f4e-e9e2-0cc6303b0a4f",
        "colab": {
          "base_uri": "https://localhost:8080/",
          "height": 34
        }
      },
      "source": [
        "# taken from lukas/ml-class\n",
        "import numpy as np\n",
        "from keras.datasets import mnist\n",
        "from keras.models import Sequential\n",
        "from keras.layers import Dense, Flatten, Dropout\n",
        "from keras.utils import np_utils\n",
        "from keras.callbacks import Callback\n",
        "import json\n",
        "\n",
        "# from wandb.keras import WandbCallback\n",
        "# import wandb\n",
        "\n",
        "# run = wandb.init()\n",
        "# config = run.config\n",
        "\n",
        "\n",
        "\n"
      ],
      "execution_count": 1,
      "outputs": [
        {
          "output_type": "stream",
          "text": [
            "Using TensorFlow backend.\n"
          ],
          "name": "stderr"
        }
      ]
    },
    {
      "cell_type": "code",
      "metadata": {
        "id": "ca7DNHWQUTfn",
        "colab_type": "code",
        "colab": {
          "base_uri": "https://localhost:8080/",
          "height": 34
        },
        "outputId": "fc9af37f-8048-4936-f3c4-e37391d8daad"
      },
      "source": [
        "1+1\n",
        "\n"
      ],
      "execution_count": 2,
      "outputs": [
        {
          "output_type": "execute_result",
          "data": {
            "text/plain": [
              "2"
            ]
          },
          "metadata": {
            "tags": []
          },
          "execution_count": 2
        }
      ]
    },
    {
      "cell_type": "markdown",
      "metadata": {
        "id": "5YeQ2I1WUaWb",
        "colab_type": "text"
      },
      "source": [
        "###hello world\n",
        "\n",
        "1. One\n",
        "2.Two\n",
        "3.Three\n",
        "\n",
        "usvenuhnhfhhhbjgfhjgb,k\n",
        "\n",
        "-hello\n",
        "-world\n",
        "-good\n",
        "-Hello the $\\alpha$ is a greek letter.\n",
        "$$\\alpha+\\beta+\\gamma=\\delta$$\n",
        "\n",
        "---\n",
        "*alpha* **alpha**"
      ]
    },
    {
      "cell_type": "code",
      "metadata": {
        "id": "iy8CpOB1YRpp",
        "colab_type": "code",
        "colab": {
          "base_uri": "https://localhost:8080/",
          "height": 34
        },
        "outputId": "4fb06bb3-93e6-4bc7-ba27-df69bd0652ed"
      },
      "source": [
        "a=(1,2)\n",
        "type(a)"
      ],
      "execution_count": 3,
      "outputs": [
        {
          "output_type": "execute_result",
          "data": {
            "text/plain": [
              "tuple"
            ]
          },
          "metadata": {
            "tags": []
          },
          "execution_count": 3
        }
      ]
    },
    {
      "cell_type": "code",
      "metadata": {
        "id": "UF83TfBTYZgr",
        "colab_type": "code",
        "colab": {
          "base_uri": "https://localhost:8080/",
          "height": 34
        },
        "outputId": "de227450-eb72-4612-b7aa-504b34848f48"
      },
      "source": [
        "a"
      ],
      "execution_count": 4,
      "outputs": [
        {
          "output_type": "execute_result",
          "data": {
            "text/plain": [
              "(1, 2)"
            ]
          },
          "metadata": {
            "tags": []
          },
          "execution_count": 4
        }
      ]
    },
    {
      "cell_type": "code",
      "metadata": {
        "id": "-wybMP0SRaJD",
        "colab_type": "code",
        "colab": {
          "base_uri": "https://localhost:8080/",
          "height": 68
        },
        "outputId": "40162d94-0683-4c72-ced7-1a768bd7f986"
      },
      "source": [
        "class Config:\n",
        "  pass\n",
        "\n",
        "config = Config()\n",
        "config.optimizer = \"adam\"\n",
        "config.epochs = 30\n",
        "config.hidden_nodes = 30\n",
        "\n",
        "# load data\n",
        "(X_train, y_train), (X_test, y_test) = mnist.load_data()\n",
        "img_width = X_train.shape[1]\n",
        "img_height = X_train.shape[2]\n",
        "print(X_train.shape, y_train.shape)\n",
        "#X_train = X_train.astype('float32')\n",
        "#X_train /= 255.\n",
        "#X_test = X_test.astype('float32')\n",
        "#X_test /= 255.\n",
        "\n",
        "# Normalize, change learning rate, play with layer size, batchsize\n",
        "\n",
        "# one hot encode outputs\n",
        "y_train = np_utils.to_categorical(y_train)\n",
        "y_test = np_utils.to_categorical(y_test)\n",
        "labels = range(10)\n",
        "\n",
        "num_classes = y_train.shape[1]\n",
        "\n",
        "\n"
      ],
      "execution_count": 2,
      "outputs": [
        {
          "output_type": "stream",
          "text": [
            "Downloading data from https://s3.amazonaws.com/img-datasets/mnist.npz\n",
            "11493376/11490434 [==============================] - 1s 0us/step\n",
            "(60000, 28, 28) (60000,)\n"
          ],
          "name": "stdout"
        }
      ]
    },
    {
      "cell_type": "code",
      "metadata": {
        "id": "YA8BTSRnRjAW",
        "colab_type": "code",
        "colab": {
          "base_uri": "https://localhost:8080/",
          "height": 479
        },
        "outputId": "e8adfc4a-3f12-42d7-b7af-75824038baf4"
      },
      "source": [
        "# create model\n",
        "model = Sequential()\n",
        "model.add(Flatten(input_shape=(img_width, img_height)))\n",
        "model.add(Dense(config.hidden_nodes, activation='relu'))\n",
        "model.add(Dense(config.hidden_nodes, activation='relu'))\n",
        "model.add(Dense(num_classes, activation='softmax'))\n",
        "model.compile(loss='categorical_crossentropy', optimizer=config.optimizer,\n",
        "              metrics=['accuracy'])\n",
        "model.summary()"
      ],
      "execution_count": 3,
      "outputs": [
        {
          "output_type": "stream",
          "text": [
            "WARNING:tensorflow:From /usr/local/lib/python3.6/dist-packages/keras/backend/tensorflow_backend.py:66: The name tf.get_default_graph is deprecated. Please use tf.compat.v1.get_default_graph instead.\n",
            "\n",
            "WARNING:tensorflow:From /usr/local/lib/python3.6/dist-packages/keras/backend/tensorflow_backend.py:541: The name tf.placeholder is deprecated. Please use tf.compat.v1.placeholder instead.\n",
            "\n",
            "WARNING:tensorflow:From /usr/local/lib/python3.6/dist-packages/keras/backend/tensorflow_backend.py:4432: The name tf.random_uniform is deprecated. Please use tf.random.uniform instead.\n",
            "\n",
            "WARNING:tensorflow:From /usr/local/lib/python3.6/dist-packages/keras/optimizers.py:793: The name tf.train.Optimizer is deprecated. Please use tf.compat.v1.train.Optimizer instead.\n",
            "\n",
            "WARNING:tensorflow:From /usr/local/lib/python3.6/dist-packages/keras/backend/tensorflow_backend.py:3576: The name tf.log is deprecated. Please use tf.math.log instead.\n",
            "\n",
            "Model: \"sequential_1\"\n",
            "_________________________________________________________________\n",
            "Layer (type)                 Output Shape              Param #   \n",
            "=================================================================\n",
            "flatten_1 (Flatten)          (None, 784)               0         \n",
            "_________________________________________________________________\n",
            "dense_1 (Dense)              (None, 30)                23550     \n",
            "_________________________________________________________________\n",
            "dense_2 (Dense)              (None, 30)                930       \n",
            "_________________________________________________________________\n",
            "dense_3 (Dense)              (None, 10)                310       \n",
            "=================================================================\n",
            "Total params: 24,790\n",
            "Trainable params: 24,790\n",
            "Non-trainable params: 0\n",
            "_________________________________________________________________\n"
          ],
          "name": "stdout"
        }
      ]
    },
    {
      "cell_type": "code",
      "metadata": {
        "id": "D8qpWjuLRjMh",
        "colab_type": "code",
        "colab": {
          "base_uri": "https://localhost:8080/",
          "height": 1000
        },
        "outputId": "d1554eca-8e7b-4af4-8222-0d038a263d51"
      },
      "source": [
        "# Fit the model\n",
        "model.fit(X_train, y_train, validation_data=(X_test, y_test),\n",
        "          epochs=config.epochs)"
      ],
      "execution_count": 4,
      "outputs": [
        {
          "output_type": "stream",
          "text": [
            "WARNING:tensorflow:From /usr/local/lib/python3.6/dist-packages/tensorflow/python/ops/math_grad.py:1250: add_dispatch_support.<locals>.wrapper (from tensorflow.python.ops.array_ops) is deprecated and will be removed in a future version.\n",
            "Instructions for updating:\n",
            "Use tf.where in 2.0, which has the same broadcast rule as np.where\n",
            "WARNING:tensorflow:From /usr/local/lib/python3.6/dist-packages/keras/backend/tensorflow_backend.py:1033: The name tf.assign_add is deprecated. Please use tf.compat.v1.assign_add instead.\n",
            "\n",
            "Train on 60000 samples, validate on 10000 samples\n",
            "Epoch 1/30\n",
            "60000/60000 [==============================] - 15s 257us/step - loss: 4.8626 - acc: 0.6865 - val_loss: 4.0812 - val_acc: 0.7419\n",
            "Epoch 2/30\n",
            "60000/60000 [==============================] - 10s 175us/step - loss: 4.1030 - acc: 0.7409 - val_loss: 3.9548 - val_acc: 0.7505\n",
            "Epoch 3/30\n",
            "60000/60000 [==============================] - 10s 171us/step - loss: 3.9821 - acc: 0.7497 - val_loss: 3.8150 - val_acc: 0.7615\n",
            "Epoch 4/30\n",
            "60000/60000 [==============================] - 10s 171us/step - loss: 3.8963 - acc: 0.7560 - val_loss: 3.7865 - val_acc: 0.7625\n",
            "Epoch 5/30\n",
            "60000/60000 [==============================] - 10s 173us/step - loss: 3.8839 - acc: 0.7572 - val_loss: 3.9217 - val_acc: 0.7546\n",
            "Epoch 6/30\n",
            "60000/60000 [==============================] - 10s 171us/step - loss: 3.8501 - acc: 0.7595 - val_loss: 3.9899 - val_acc: 0.7513\n",
            "Epoch 7/30\n",
            "60000/60000 [==============================] - 10s 171us/step - loss: 3.8717 - acc: 0.7583 - val_loss: 3.7871 - val_acc: 0.7637\n",
            "Epoch 8/30\n",
            "60000/60000 [==============================] - 10s 171us/step - loss: 3.8402 - acc: 0.7606 - val_loss: 3.7020 - val_acc: 0.7697\n",
            "Epoch 9/30\n",
            "60000/60000 [==============================] - 10s 170us/step - loss: 3.7895 - acc: 0.7637 - val_loss: 3.6595 - val_acc: 0.7718\n",
            "Epoch 10/30\n",
            "60000/60000 [==============================] - 10s 172us/step - loss: 3.7839 - acc: 0.7642 - val_loss: 3.7287 - val_acc: 0.7680\n",
            "Epoch 11/30\n",
            "60000/60000 [==============================] - 10s 171us/step - loss: 3.8004 - acc: 0.7635 - val_loss: 3.7457 - val_acc: 0.7668\n",
            "Epoch 12/30\n",
            "60000/60000 [==============================] - 10s 170us/step - loss: 3.8183 - acc: 0.7623 - val_loss: 3.8380 - val_acc: 0.7610\n",
            "Epoch 13/30\n",
            "60000/60000 [==============================] - 10s 172us/step - loss: 3.7797 - acc: 0.7647 - val_loss: 3.6629 - val_acc: 0.7722\n",
            "Epoch 14/30\n",
            "60000/60000 [==============================] - 10s 172us/step - loss: 3.7675 - acc: 0.7655 - val_loss: 3.6480 - val_acc: 0.7732\n",
            "Epoch 15/30\n",
            "60000/60000 [==============================] - 10s 171us/step - loss: 3.7628 - acc: 0.7661 - val_loss: 3.6479 - val_acc: 0.7732\n",
            "Epoch 16/30\n",
            "60000/60000 [==============================] - 10s 169us/step - loss: 3.7208 - acc: 0.7684 - val_loss: 3.7989 - val_acc: 0.7639\n",
            "Epoch 17/30\n",
            "60000/60000 [==============================] - 10s 169us/step - loss: 3.7355 - acc: 0.7677 - val_loss: 4.3119 - val_acc: 0.7313\n",
            "Epoch 18/30\n",
            "60000/60000 [==============================] - 10s 175us/step - loss: 3.7527 - acc: 0.7667 - val_loss: 3.7526 - val_acc: 0.7669\n",
            "Epoch 19/30\n",
            "60000/60000 [==============================] - 10s 173us/step - loss: 3.8238 - acc: 0.7623 - val_loss: 3.7783 - val_acc: 0.7651\n",
            "Epoch 20/30\n",
            "60000/60000 [==============================] - 10s 170us/step - loss: 3.7044 - acc: 0.7696 - val_loss: 3.8052 - val_acc: 0.7635\n",
            "Epoch 21/30\n",
            "60000/60000 [==============================] - 10s 173us/step - loss: 3.6948 - acc: 0.7703 - val_loss: 3.8022 - val_acc: 0.7636\n",
            "Epoch 22/30\n",
            "60000/60000 [==============================] - 10s 172us/step - loss: 3.7041 - acc: 0.7697 - val_loss: 3.7488 - val_acc: 0.7668\n",
            "Epoch 23/30\n",
            "60000/60000 [==============================] - 10s 173us/step - loss: 3.6553 - acc: 0.7729 - val_loss: 3.6319 - val_acc: 0.7743\n",
            "Epoch 24/30\n",
            "60000/60000 [==============================] - 11s 181us/step - loss: 3.7328 - acc: 0.7680 - val_loss: 3.7399 - val_acc: 0.7674\n",
            "Epoch 25/30\n",
            "60000/60000 [==============================] - 10s 171us/step - loss: 3.7025 - acc: 0.7699 - val_loss: 3.5757 - val_acc: 0.7775\n",
            "Epoch 26/30\n",
            "60000/60000 [==============================] - 10s 172us/step - loss: 3.7258 - acc: 0.7685 - val_loss: 4.1919 - val_acc: 0.7392\n",
            "Epoch 27/30\n",
            "60000/60000 [==============================] - 10s 173us/step - loss: 3.8220 - acc: 0.7624 - val_loss: 3.6843 - val_acc: 0.7710\n",
            "Epoch 28/30\n",
            "60000/60000 [==============================] - 10s 172us/step - loss: 3.7061 - acc: 0.7696 - val_loss: 3.6736 - val_acc: 0.7719\n",
            "Epoch 29/30\n",
            "60000/60000 [==============================] - 10s 172us/step - loss: 3.7030 - acc: 0.7700 - val_loss: 3.5611 - val_acc: 0.7790\n",
            "Epoch 30/30\n",
            "60000/60000 [==============================] - 10s 172us/step - loss: 3.7527 - acc: 0.7669 - val_loss: 3.5796 - val_acc: 0.7776\n"
          ],
          "name": "stdout"
        },
        {
          "output_type": "execute_result",
          "data": {
            "text/plain": [
              "<keras.callbacks.History at 0x7fa116bc3160>"
            ]
          },
          "metadata": {
            "tags": []
          },
          "execution_count": 4
        }
      ]
    },
    {
      "cell_type": "code",
      "metadata": {
        "id": "LeJ66oefxcmj",
        "colab_type": "code",
        "colab": {
          "base_uri": "https://localhost:8080/",
          "height": 34
        },
        "outputId": "3eb050aa-4a60-4e8b-d2a1-f166cb57b5e9"
      },
      "source": [
        "1+1"
      ],
      "execution_count": 2,
      "outputs": [
        {
          "output_type": "execute_result",
          "data": {
            "text/plain": [
              "2"
            ]
          },
          "metadata": {
            "tags": []
          },
          "execution_count": 2
        }
      ]
    }
  ]
}